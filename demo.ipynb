{
 "cells": [
  {
   "cell_type": "code",
   "execution_count": 1,
   "id": "3000adc7-3173-4f67-b184-9fc2d0e0d1c0",
   "metadata": {},
   "outputs": [],
   "source": [
    "# import the class MarkovText and other functions\n",
    "from project import count_nwords, is_special_ending, rm_special_endings, \\\n",
    "count_syllables, reading_ease_score, MarkovText"
   ]
  },
  {
   "cell_type": "code",
   "execution_count": 2,
   "id": "a547a370-8033-49c5-8250-26fb08ddeaf5",
   "metadata": {},
   "outputs": [],
   "source": [
    "# import the source text\n",
    "with open('emma-full.txt', 'r', encoding='UTF-8') as f:\n",
    "    s = f.read()"
   ]
  },
  {
   "cell_type": "code",
   "execution_count": 3,
   "id": "86091eb8",
   "metadata": {},
   "outputs": [
    {
     "name": "stdout",
     "output_type": "stream",
     "text": [
      "Cannot find matching words, trying n - 1 = 2\n"
     ]
    },
    {
     "data": {
      "text/plain": [
       "'Emma Woodhouse was almost as often as became the owner of Donwell and Highbury, with great agitation; and when there'"
      ]
     },
     "execution_count": 3,
     "metadata": {},
     "output_type": "execute_result"
    }
   ],
   "source": [
    "# test exception handling\n",
    "test =  MarkovText(text = s, n = 3, length = 20, seed = \"Emma Woodhouse was\")\n",
    "test.markov_text_word()"
   ]
  },
  {
   "cell_type": "code",
   "execution_count": 4,
   "id": "9d7498b8-4918-4afe-9693-8298e75975a4",
   "metadata": {},
   "outputs": [],
   "source": [
    "# create an object of this class\n",
    "markov = MarkovText(text = s, n = 1, length = 40, seed = \"Emma\")"
   ]
  },
  {
   "cell_type": "code",
   "execution_count": 5,
   "id": "a0b1de82-b5d0-4da6-b2e4-ac6220856f5e",
   "metadata": {},
   "outputs": [
    {
     "data": {
      "text/plain": [
       "'Emma would Mr. Frank Churchill is the clouds were your friend. Harriet his master lately, but at all, but I have not acquainted with all appropriation ceases, and this, when she is nothing of assent, or interest, was robbed one'"
      ]
     },
     "execution_count": 5,
     "metadata": {},
     "output_type": "execute_result"
    }
   ],
   "source": [
    "# generate the text containing 40 words\n",
    "markov.markov_text_word()"
   ]
  },
  {
   "cell_type": "code",
   "execution_count": 12,
   "id": "c8119629-cfd7-4e32-9437-f8b2285fa971",
   "metadata": {},
   "outputs": [
    {
     "data": {
      "text/plain": [
       "'Emma spoke well off very fanciful and when so I did such matters myself.'"
      ]
     },
     "execution_count": 12,
     "metadata": {},
     "output_type": "execute_result"
    }
   ],
   "source": [
    "# generate one sentence\n",
    "markov.make_a_sentence()"
   ]
  },
  {
   "cell_type": "code",
   "execution_count": 11,
   "id": "78f983cc-dc62-44ad-90bd-a2d503b8c746",
   "metadata": {},
   "outputs": [
    {
     "name": "stdout",
     "output_type": "stream",
     "text": [
      "RE for original text: 72.27 \n",
      "RE for fake text: 68.52\n"
     ]
    }
   ],
   "source": [
    "# get the Flesch's reading ease score\n",
    "markov.reading_ease_score()"
   ]
  },
  {
   "cell_type": "code",
   "execution_count": null,
   "id": "b766e43d",
   "metadata": {},
   "outputs": [],
   "source": []
  }
 ],
 "metadata": {
  "kernelspec": {
   "display_name": "Python 3 (ipykernel)",
   "language": "python",
   "name": "python3"
  },
  "language_info": {
   "codemirror_mode": {
    "name": "ipython",
    "version": 3
   },
   "file_extension": ".py",
   "mimetype": "text/x-python",
   "name": "python",
   "nbconvert_exporter": "python",
   "pygments_lexer": "ipython3",
   "version": "3.9.7"
  }
 },
 "nbformat": 4,
 "nbformat_minor": 5
}
