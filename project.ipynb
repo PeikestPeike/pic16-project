{
 "cells": [
  {
   "cell_type": "code",
   "execution_count": 3,
   "id": "9a85131f",
   "metadata": {},
   "outputs": [],
   "source": [
    "import random\n",
    "import string\n",
    "\n",
    "def count_characters(s):\n",
    "    \"\"\"\n",
    "    Count the number of occurrences of each character in a string. \n",
    "    s: str, the string in which to count. \n",
    "    return counts, a dict keyed by character whose values are the number of occurrences in s\n",
    "    \"\"\"\n",
    "    \n",
    "    # create an empty dictionary\n",
    "    counts = {}\n",
    "    \n",
    "    # loop through the input string, \n",
    "    # creating and incrementing counts\n",
    "    for i in range(len(s)):\n",
    "        l = s[i]\n",
    "        if l in counts:\n",
    "            counts[l] += 1\n",
    "        # if it's a new key\n",
    "        else:\n",
    "            counts[l] = 1\n",
    "            \n",
    "    return counts\n",
    "\n",
    "def count_ngrams(s, n=1):\n",
    "    \"\"\"\n",
    "    Count the number of occurrences of n-grams in a string. \n",
    "    s: str, the string in which to count. \n",
    "    n: the size of n-grams to count. \n",
    "    return counts, a dict keyed by n-grams whose values are the number of occurrences in s\n",
    "    \"\"\"\n",
    "    \n",
    "    # initialize an empty dictionary\n",
    "    counts = {}\n",
    "    \n",
    "    # loop through substrings of length n of \n",
    "    # the input string, updating counts as before\n",
    "    for i in range(len(s)-n+1):\n",
    "        gram = s[i:(i+n)]\n",
    "        if gram in counts:\n",
    "            counts[gram] += 1\n",
    "        else:\n",
    "            counts[gram] = 1\n",
    "\n",
    "    return counts\n",
    "\n",
    "\n",
    "def markov_text(s, n, length = 100, seed = \"Emma Woodhouse\"):\n",
    "    \"\"\"\n",
    "    Generate fake text according to an n-th order Markov model, with data from a user-supplied corpus. \n",
    "    s: the text from which to learn grams\n",
    "    n: the order of the Markov model. \n",
    "    length: the number of synthetic characters to generate. The length of the output string will be equal to this plus the length of the seed string. \n",
    "    seed: the initial string.\n",
    "    \"\"\"\n",
    "    counts = count_ngrams(s, n+1)\n",
    "    \n",
    "    # initialize\n",
    "    fake = seed\n",
    "    for i in range(length):\n",
    "        previous = fake[(-n):]\n",
    "        \n",
    "        # filter dict to keep only matching grams\n",
    "        sub = {}\n",
    "        for key in counts:\n",
    "            if key[:-1] == previous:\n",
    "                sub[key] = counts[key]\n",
    "        \n",
    "        # slightly simpler, if you know dictionary comprehensions (not discussed in class)\n",
    "        # sub = {key : counts[key] for key in counts if key[:-1] == previous}\n",
    "        \n",
    "        # convert to lists for use with random.choices\n",
    "        choices = list(sub.keys())\n",
    "        weights = [sub[key] for key in choices]\n",
    "          \n",
    "        # make choice \n",
    "        new_gram = random.choices(choices, weights)[0]\n",
    "        \n",
    "        # add to s\n",
    "        new_char = new_gram[-1]\n",
    "        fake += new_char\n",
    "    \n",
    "    return fake"
   ]
  },
  {
   "cell_type": "code",
   "execution_count": null,
   "id": "2b461d79",
   "metadata": {},
   "outputs": [],
   "source": [
    "with open('emma-full.txt', 'r', encoding='UTF-8') as f:\n",
    "    s = f.read()"
   ]
  },
  {
   "cell_type": "code",
   "execution_count": 12,
   "id": "d988efc5",
   "metadata": {},
   "outputs": [
    {
     "data": {
      "text/plain": [
       "'Emma.”\\n\\n“Aye, preferableness, quite end at Marticular disengaged do noise. You speak it make too, if her'"
      ]
     },
     "execution_count": 12,
     "metadata": {},
     "output_type": "execute_result"
    }
   ],
   "source": [
    "markov_text(s, n = 4, length = 100, seed = \"Emma\")"
   ]
  },
  {
   "cell_type": "code",
   "execution_count": 204,
   "id": "507e101e",
   "metadata": {},
   "outputs": [],
   "source": [
    "def count_nwords(s, n = 1):\n",
    "    '''\n",
    "    count the number of occurance of n-words in a string\n",
    "    Input: s, the string\n",
    "           n, the size of n-words to count\n",
    "    Output: a dictionary keyed by n-words whose values are number of occurance in s\n",
    "    '''\n",
    "    counts = {}\n",
    "    words = s.split()\n",
    "    for i in range(len(words) - n + 1):\n",
    "        nwords = \" \".join(words[i:(i+n)])\n",
    "        if nwords in counts:\n",
    "            counts[nwords] += 1\n",
    "        else:\n",
    "            counts[nwords] = 1\n",
    "    return counts"
   ]
  },
  {
   "cell_type": "code",
   "execution_count": 16,
   "id": "a7b9577d",
   "metadata": {},
   "outputs": [],
   "source": [
    "import random\n",
    "\n",
    "def markov_text_word(s, n, length = 100, seed = \"Emma Woodhouse\"):\n",
    "    \"\"\"\n",
    "    Generate fake text according to an n-th order Markov model\n",
    "    s: the text from which to learn words\n",
    "    n: the order of the Markov model\n",
    "    length: the number of synthetic words to generate.\n",
    "    seed: the initial string.\n",
    "    \"\"\"\n",
    "    counts = count_nwords(s, n+1)\n",
    "    \n",
    "    # initialize\n",
    "    fake = seed\n",
    "    for i in range(length):\n",
    "        previous = tuple(fake.split()[(-n):])\n",
    "        \n",
    "        # filter dict to keep only matching grams\n",
    "        sub = {}\n",
    "        for key in counts:\n",
    "            if key[:n] == previous:\n",
    "                sub[key] = counts[key]\n",
    "                \n",
    "        # convert to lists for use with random.choices\n",
    "        choices = list(sub.keys())\n",
    "        weights = [sub[key] for key in choices]\n",
    "\n",
    "        # make choice \n",
    "        new_nword = random.choices(choices, weights)[0]\n",
    "        \n",
    "        # add to s\n",
    "        new_word = new_nword[-1]\n",
    "        fake += \" \" + new_word\n",
    "    \n",
    "    return fake"
   ]
  },
  {
   "cell_type": "markdown",
   "id": "2309cbd4",
   "metadata": {},
   "source": [
    "# project starts here"
   ]
  },
  {
   "cell_type": "code",
   "execution_count": 14,
   "id": "46b424de",
   "metadata": {},
   "outputs": [],
   "source": [
    "import random\n",
    "import string\n",
    "import re"
   ]
  },
  {
   "cell_type": "code",
   "execution_count": 15,
   "id": "09fa5c9d",
   "metadata": {},
   "outputs": [],
   "source": [
    "def count_ngrams(s, n=1):\n",
    "    \"\"\"\n",
    "    Count the number of occurrences of n-grams in a string. \n",
    "    s: str, the string in which to count. \n",
    "    n: the size of n-grams to count. \n",
    "    return counts, a dict keyed by n-grams whose values are the number of occurrences in s\n",
    "    \"\"\"\n",
    "    \n",
    "    # initialize an empty dictionary\n",
    "    counts = {}\n",
    "    \n",
    "    # loop through substrings of length n of \n",
    "    # the input string, updating counts as before\n",
    "    for i in range(len(s)-n+1):\n",
    "        gram = s[i:(i+n)]\n",
    "        if gram in counts:\n",
    "            counts[gram] += 1\n",
    "        else:\n",
    "            counts[gram] = 1\n",
    "\n",
    "    return counts"
   ]
  },
  {
   "cell_type": "code",
   "execution_count": 16,
   "id": "b478064e",
   "metadata": {},
   "outputs": [],
   "source": [
    "def count_characters(s):\n",
    "    \"\"\"\n",
    "    Count the number of occurrences of each character in a string. \n",
    "    s: str, the string in which to count. \n",
    "    return counts, a dict keyed by character whose values are the number of occurrences in s\n",
    "    \"\"\"\n",
    "    \n",
    "    # create an empty dictionary\n",
    "    counts = {}\n",
    "    \n",
    "    # loop through the input string, \n",
    "    # creating and incrementing counts\n",
    "    for i in range(len(s)):\n",
    "        l = s[i]\n",
    "        if l in counts:\n",
    "            counts[l] += 1\n",
    "        # if it's a new key\n",
    "        else:\n",
    "            counts[l] = 1\n",
    "            \n",
    "    return counts\n",
    "\n",
    "\n",
    "def count_nwords(s, n = 1):\n",
    "    '''\n",
    "    count the number of occurance of n-words in a string\n",
    "    Input: s, the string\n",
    "           n, the size of n-words to count\n",
    "    Output: a dictionary keyed by n-words whose values are number of occurance in s\n",
    "    '''\n",
    "    counts = {}\n",
    "    words = s.split()\n",
    "    for i in range(len(words) - n + 1):\n",
    "        nwords = tuple(words[i:(i+n)])\n",
    "        if nwords in counts:\n",
    "            counts[nwords] += 1\n",
    "        else:\n",
    "            counts[nwords] = 1\n",
    "    return counts"
   ]
  },
  {
   "cell_type": "code",
   "execution_count": 19,
   "id": "947c05f8",
   "metadata": {},
   "outputs": [],
   "source": [
    "class MarkovText():\n",
    "    def __init__(self, text, n, length, seed):\n",
    "        '''\n",
    "        Introduce this class! TO-BE-ADDED\n",
    "        '''\n",
    "        self.text = text\n",
    "        self.n = n\n",
    "        self.length = length\n",
    "        self.seed = seed\n",
    "        self.char_dict = count_ngrams(self.text, self.n + 1)\n",
    "        self.word_dict = count_nwords(self.text, self.n + 1)\n",
    "    \n",
    "    def markov_text_char(self):\n",
    "        '''\n",
    "        generate fake text with characters as units\n",
    "        Args:\n",
    "            None\n",
    "        Returns:\n",
    "            fake: a string, the fake text\n",
    "        '''\n",
    "        # test the input\n",
    "        if self.n > len(self.seed):\n",
    "            raise ValueError(\"n has to be smaller or equal to the number of characters in seed.\")\n",
    "        \n",
    "        # initialize\n",
    "        fake = self.seed\n",
    "        for i in range(self.length):\n",
    "            previous = fake[(-self.n):]\n",
    "        \n",
    "        # filter dict to keep only matching grams\n",
    "            sub = {}\n",
    "            for key in self.char_dict:\n",
    "                if key[:-1] == previous:\n",
    "                    sub[key] = self.char_dict[key]\n",
    "                    \n",
    "            # convert to lists for use with random.choices\n",
    "            choices = list(sub.keys())\n",
    "            weights = [sub[key] for key in choices]\n",
    "\n",
    "            # make choice \n",
    "            try:\n",
    "                new_gram = random.choices(choices, weights)[0]\n",
    "            except IndexError\n",
    "            \n",
    "            # add to s\n",
    "            new_char = new_gram[-1]\n",
    "            fake += new_char\n",
    "    \n",
    "        return fake\n",
    "\n",
    "\n",
    "    def markov_text_word(self):\n",
    "        '''\n",
    "        Generate fake text with words as units.\n",
    "        Args:\n",
    "            None\n",
    "        Returns:\n",
    "            fake: a string, the fake text\n",
    "        '''\n",
    "        # test the input\n",
    "        if self.n > len(self.seed.split()):\n",
    "            raise ValueError(\"n has to be smaller or equal to the number of words in seed.\")\n",
    "        \n",
    "        # initialize\n",
    "        fake = self.seed\n",
    "        for i in range(self.length):\n",
    "            previous = tuple(fake.split()[(-self.n):])\n",
    "\n",
    "            # filter dict to keep only matching grams\n",
    "            sub = {}\n",
    "            for key in self.word_dict:\n",
    "                if key[:self.n] == previous:\n",
    "                    sub[key] = self.word_dict[key]\n",
    "\n",
    "            # convert to lists for use with random.choices\n",
    "            choices = list(sub.keys())\n",
    "            if len(choices) == 0:\n",
    "                raise ValueError(\"No matched n-gram.\")\n",
    "            weights = [sub[key] for key in choices]\n",
    "\n",
    "            # make choice \n",
    "            new_nword = random.choices(choices, weights)[0]\n",
    "\n",
    "            # add to s\n",
    "            new_word = new_nword[-1]\n",
    "            fake += \" \" + new_word\n",
    "    \n",
    "        return fake\n",
    "    \n",
    "    def make_a_sentence(self):\n",
    "        '''\n",
    "        Generate a sentence. Prompt the user to choose whether to \n",
    "        generate this sentence by characters or by words.\n",
    "        Arg:\n",
    "            None\n",
    "        Return:\n",
    "            s: string, a sentence\n",
    "        '''\n",
    "        sentenceEnders = re.compile('[.!?:;]')\n",
    "        by = input(\"Do you want to generate text by characters or by words? \\nEnter 'c' or 'w': \")\n",
    "        if by == \"c\":\n",
    "            s = self.markov_text_char()\n",
    "            s = sentenceEnders.split(s)[0]\n",
    "        elif by == \"w\":\n",
    "            s = self.markov_text_word()\n",
    "            s = sentenceEnders.split(s)[0]\n",
    "        else:  \n",
    "            s = \"WARNING: No text generated. Please try again and enter either 'c' or 'w'.\"\n",
    "        return s\n",
    "            "
   ]
  },
  {
   "cell_type": "markdown",
   "id": "065a2e4b",
   "metadata": {},
   "source": [
    "### Ideas regarding text comparison:\n",
    "1. compare the characters/words frequency for two texts\n",
    "2. Reading ease score"
   ]
  },
  {
   "cell_type": "code",
   "execution_count": 8,
   "id": "fd290ae0",
   "metadata": {},
   "outputs": [],
   "source": [
    "with open('emma-full.txt', 'r', encoding='UTF-8') as f:\n",
    "    s = f.read()"
   ]
  },
  {
   "cell_type": "code",
   "execution_count": 21,
   "id": "2e258215",
   "metadata": {},
   "outputs": [
    {
     "data": {
      "text/plain": [
       "'Emma, “in vain, Emma—can'"
      ]
     },
     "execution_count": 21,
     "metadata": {},
     "output_type": "execute_result"
    }
   ],
   "source": [
    "# test class methods\n",
    "Test = MarkovText(text = s, n = 4, length = 20, seed = \"Emma\")\n",
    "Test.markov_text_char()"
   ]
  },
  {
   "cell_type": "code",
   "execution_count": 184,
   "id": "53638ec0",
   "metadata": {},
   "outputs": [
    {
     "data": {
      "text/plain": [
       "'Emma was very superior intelligence, of some reluctance the suspicion first to Emma, which must often think and who will be'"
      ]
     },
     "execution_count": 184,
     "metadata": {},
     "output_type": "execute_result"
    }
   ],
   "source": [
    "Test.markov_text_word()"
   ]
  },
  {
   "cell_type": "code",
   "execution_count": 187,
   "id": "227dd297",
   "metadata": {},
   "outputs": [
    {
     "name": "stdout",
     "output_type": "stream",
     "text": [
      "Do you want to generate text by characters or by words? \n",
      "Enter 'c' or 'w': w\n"
     ]
    },
    {
     "data": {
      "text/plain": [
       "'Emma was not suffer more before she could not a sofa'"
      ]
     },
     "execution_count": 187,
     "metadata": {},
     "output_type": "execute_result"
    }
   ],
   "source": [
    "Test.make_a_sentence()"
   ]
  },
  {
   "cell_type": "code",
   "execution_count": 189,
   "id": "3af546f4",
   "metadata": {},
   "outputs": [
    {
     "name": "stdout",
     "output_type": "stream",
     "text": [
      "Do you want to generate text by characters or by words? \n",
      "Enter 'c' or 'w': c\n",
      "Emmakint mstheave han It\n",
      "Do you want to generate text by characters or by words? \n",
      "Enter 'c' or 'w': t\n",
      "WARNING: No text generated. Please try again and enter either 'c' or 'w'.\n",
      "Do you want to generate text by characters or by words? \n",
      "Enter 'c' or 'w': w\n",
      "Emma and after a consideration of its getting to which bids fair but his principal in approving\n"
     ]
    }
   ],
   "source": [
    "# generate three sentences\n",
    "for i in range(3):\n",
    "    print(Test.make_a_sentence())"
   ]
  },
  {
   "cell_type": "code",
   "execution_count": 190,
   "id": "0b4e0a98",
   "metadata": {},
   "outputs": [
    {
     "name": "stdout",
     "output_type": "stream",
     "text": [
      "Do you want to generate text by characters or by words? \n",
      "Enter 'c' or 'w': w\n",
      "Do you want to generate text by characters or by words? \n",
      "Enter 'c' or 'w': c\n"
     ]
    }
   ],
   "source": [
    "# to store the sentences\n",
    "sentences = []\n",
    "for i in range(2):\n",
    "    sentences.append(Test.make_a_sentence())"
   ]
  },
  {
   "cell_type": "code",
   "execution_count": 191,
   "id": "78fcce18",
   "metadata": {},
   "outputs": [
    {
     "data": {
      "text/plain": [
       "['Emma said she, “and you discovered, and comfort or settling till this spring',\n",
       " 'Emmatherdixok yost Eldie']"
      ]
     },
     "execution_count": 191,
     "metadata": {},
     "output_type": "execute_result"
    }
   ],
   "source": [
    "sentences"
   ]
  },
  {
   "cell_type": "code",
   "execution_count": null,
   "id": "89749d60",
   "metadata": {},
   "outputs": [],
   "source": []
  }
 ],
 "metadata": {
  "kernelspec": {
   "display_name": "Python 3 (ipykernel)",
   "language": "python",
   "name": "python3"
  },
  "language_info": {
   "codemirror_mode": {
    "name": "ipython",
    "version": 3
   },
   "file_extension": ".py",
   "mimetype": "text/x-python",
   "name": "python",
   "nbconvert_exporter": "python",
   "pygments_lexer": "ipython3",
   "version": "3.9.7"
  }
 },
 "nbformat": 4,
 "nbformat_minor": 5
}
