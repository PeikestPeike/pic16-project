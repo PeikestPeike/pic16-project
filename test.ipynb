{
 "cells": [
  {
   "cell_type": "code",
   "execution_count": 1,
   "id": "3000adc7-3173-4f67-b184-9fc2d0e0d1c0",
   "metadata": {},
   "outputs": [],
   "source": [
    "from project import count_nwords, is_special_ending, rm_special_endings, \\\n",
    "count_syllables, reading_ease_score, MarkovText"
   ]
  },
  {
   "cell_type": "code",
   "execution_count": 2,
   "id": "a547a370-8033-49c5-8250-26fb08ddeaf5",
   "metadata": {},
   "outputs": [],
   "source": [
    "with open('emma-full.txt', 'r', encoding='UTF-8') as f:\n",
    "    s = f.read()"
   ]
  },
  {
   "cell_type": "code",
   "execution_count": 3,
   "id": "9d7498b8-4918-4afe-9693-8298e75975a4",
   "metadata": {},
   "outputs": [],
   "source": [
    "markov = MarkovText(text = s, n = 1, length = 20, seed = \"Emma\")"
   ]
  },
  {
   "cell_type": "code",
   "execution_count": 4,
   "id": "a0b1de82-b5d0-4da6-b2e4-ac6220856f5e",
   "metadata": {},
   "outputs": [
    {
     "data": {
      "text/plain": [
       "'Emma was a donkey. The next thing deliberately arranged. With the circle, in view of that he did not be'"
      ]
     },
     "execution_count": 4,
     "metadata": {},
     "output_type": "execute_result"
    }
   ],
   "source": [
    "markov.markov_text_word()"
   ]
  },
  {
   "cell_type": "code",
   "execution_count": 5,
   "id": "c8119629-cfd7-4e32-9437-f8b2285fa971",
   "metadata": {},
   "outputs": [
    {
     "data": {
      "text/plain": [
       "'Emma was greatly his choice'"
      ]
     },
     "execution_count": 5,
     "metadata": {},
     "output_type": "execute_result"
    }
   ],
   "source": [
    "markov.make_a_sentence()"
   ]
  },
  {
   "cell_type": "code",
   "execution_count": 6,
   "id": "e1be5eed-5000-40c5-b43a-6632128052d2",
   "metadata": {},
   "outputs": [
    {
     "name": "stdout",
     "output_type": "stream",
     "text": [
      "Emma assisted with her allowed, I am not acquainted with Jane, my terms\n",
      "Emma for Mr\n",
      "Emma must not blinded—that it never to think requires very convenient, no purpose\n"
     ]
    }
   ],
   "source": [
    "# generate three sentences\n",
    "for i in range(3):\n",
    "    print(markov.make_a_sentence())"
   ]
  },
  {
   "cell_type": "code",
   "execution_count": 7,
   "id": "3dfb23fa-5aaa-4319-be71-242abf8efcea",
   "metadata": {},
   "outputs": [
    {
     "data": {
      "text/plain": [
       "['Emma joined the office done his being wanted, and scramble into the altar might have attached to town had met',\n",
       " 'Emma became rational, unaffected woman have no greater disparity (those were turning her into the addition of the match for']"
      ]
     },
     "execution_count": 7,
     "metadata": {},
     "output_type": "execute_result"
    }
   ],
   "source": [
    "# to store the sentences\n",
    "sentences = []\n",
    "for i in range(2):\n",
    "    sentences.append(markov.make_a_sentence())\n",
    "\n",
    "sentences"
   ]
  },
  {
   "cell_type": "code",
   "execution_count": 12,
   "id": "78f983cc-dc62-44ad-90bd-a2d503b8c746",
   "metadata": {},
   "outputs": [
    {
     "name": "stdout",
     "output_type": "stream",
     "text": [
      "RE for original text: 51.15\n",
      " RE for fake text: 46.95\n"
     ]
    }
   ],
   "source": [
    "markov.reading_ease_score()"
   ]
  },
  {
   "cell_type": "code",
   "execution_count": null,
   "id": "34fe6d1a-76a1-41b0-9de7-e740a90fdd05",
   "metadata": {},
   "outputs": [],
   "source": []
  }
 ],
 "metadata": {
  "kernelspec": {
   "display_name": "Python 3 (ipykernel)",
   "language": "python",
   "name": "python3"
  },
  "language_info": {
   "codemirror_mode": {
    "name": "ipython",
    "version": 3
   },
   "file_extension": ".py",
   "mimetype": "text/x-python",
   "name": "python",
   "nbconvert_exporter": "python",
   "pygments_lexer": "ipython3",
   "version": "3.9.7"
  }
 },
 "nbformat": 4,
 "nbformat_minor": 5
}
